{
 "cells": [
  {
   "cell_type": "code",
   "execution_count": 129,
   "metadata": {},
   "outputs": [],
   "source": [
    "ARCHITECTURES = [\"ssr3\", \"csr3\", \"ssr2\", \"csr2\"]\n",
    "BROWSERS = [\"chrome\", \"edge\"]\n",
    "PAGES = [\"home\", \"category\", \"recipe\"]\n",
    "INSTANCE_SIZES = [5, 10, 15, 20, 25, 30]\n",
    "PLATFORMS = [\"desktop\", \"mobile\"]\n",
    "METRICS = [\"FCP\", \"LCP\", \"SI\", \"TBT\", \"SRT\"]\n",
    "OUTPUT_FOLDER_MEAN = \"out_mean\"\n",
    "OUTPUT_FOLDER_MEDIAN = \"out_median\""
   ]
  },
  {
   "cell_type": "code",
   "execution_count": 130,
   "metadata": {},
   "outputs": [],
   "source": [
    "import numpy as np\n",
    "import pandas as pd\n",
    "import matplotlib.pyplot as plt\n",
    "import json\n",
    "from scipy.stats import trim_mean\n",
    "import os"
   ]
  },
  {
   "cell_type": "code",
   "execution_count": 131,
   "metadata": {},
   "outputs": [],
   "source": [
    "def read_json():\n",
    "    result = dict()\n",
    "    for architecture in ARCHITECTURES:\n",
    "        if architecture not in result.keys():\n",
    "            result[architecture] = dict()\n",
    "        for browser in BROWSERS:\n",
    "            if browser not in result[architecture].keys():\n",
    "                result[architecture][browser] = dict()\n",
    "            for page in PAGES:\n",
    "                if browser not in result[architecture][browser].keys():\n",
    "                    result[architecture][browser][page] = dict()\n",
    "                for platform in PLATFORMS:\n",
    "                    table = dict()\n",
    "                    for instance_size in INSTANCE_SIZES:\n",
    "                        with open(\"../lighthouse-mag/reports/\" + architecture + \"/\" + browser + \"/\" + page + \"/\" + platform + \"/\" + str(instance_size) + \".json\", \"r\") as json_file:\n",
    "                            data = json.load(json_file)\n",
    "                            table[instance_size] = data\n",
    "                    data_frame = pd.DataFrame(table).transpose()\n",
    "                    result[architecture][browser][page][platform] = data_frame\n",
    "    return result"
   ]
  },
  {
   "cell_type": "code",
   "execution_count": 132,
   "metadata": {},
   "outputs": [],
   "source": [
    "def read_csv():\n",
    "    result = {\"Architecture\": [], \"Browser\": [], \"Page\": [], \"Platform\": [], \"Instance size\": [], \"FCP\": [], \"LCP\": [], \"SI\": [], \"TBT\": [], \"SRT\": []}\n",
    "    for architecture in ARCHITECTURES:\n",
    "        for browser in BROWSERS:\n",
    "            for page in PAGES:\n",
    "                for platform in PLATFORMS:\n",
    "                    for instance_size in INSTANCE_SIZES:\n",
    "                        data = np.genfromtxt(\"../lighthouse-mag/reports/\" + architecture + \"/\" + browser + \"/\" + page + \"/\" + platform + \"/\" + str(instance_size) + \".csv\", delimiter=',', dtype=None, names=True)\n",
    "                        for row in data:\n",
    "                            result[\"Architecture\"].append(architecture)\n",
    "                            result[\"Browser\"].append(browser)\n",
    "                            result[\"Page\"].append(page)\n",
    "                            result[\"Platform\"].append(platform)\n",
    "                            result[\"Instance size\"].append(instance_size)\n",
    "                            result[\"FCP\"].append(row[0])\n",
    "                            result[\"LCP\"].append(row[1])\n",
    "                            result[\"SI\"].append(row[2])\n",
    "                            result[\"TBT\"].append(row[3])\n",
    "                            result[\"SRT\"].append(row[4])\n",
    "    return pd.DataFrame(result)"
   ]
  },
  {
   "cell_type": "code",
   "execution_count": 133,
   "metadata": {},
   "outputs": [],
   "source": [
    "json_data = read_json()\n",
    "csv_data = read_csv()"
   ]
  },
  {
   "cell_type": "code",
   "execution_count": 134,
   "metadata": {},
   "outputs": [],
   "source": [
    "data_grouped = csv_data.groupby(['Architecture', 'Browser', 'Page', 'Platform', 'Instance size'])\n",
    "trimmed_mean = data_grouped.agg(lambda x: trim_mean(x, 0.2))\n",
    "median = data_grouped.agg(\"median\")\n",
    "min = data_grouped.agg(\"min\")\n",
    "max = data_grouped.agg(\"max\")\n",
    "std = data_grouped.agg(\"std\") "
   ]
  },
  {
   "cell_type": "code",
   "execution_count": 135,
   "metadata": {},
   "outputs": [],
   "source": [
    "def draw_chart(browser, page, platform, metric, architectures=ARCHITECTURES):\n",
    "    data_mean = trimmed_mean.groupby(['Browser', 'Page', 'Platform']).get_group((browser, page, platform)).reset_index()[['Architecture', 'Instance size', metric]]\n",
    "    data_median = median.groupby(['Browser', 'Page', 'Platform']).get_group((browser, page, platform)).reset_index()[['Architecture', 'Instance size', metric]]\n",
    "    min_value = float(min.groupby(['Browser', 'Page', 'Platform']).get_group((browser, page, platform)).reset_index()[['Architecture', 'Instance size', metric]].agg('min')[metric])\n",
    "    max_value = float(max.groupby(['Browser', 'Page', 'Platform']).get_group((browser, page, platform)).reset_index()[['Architecture', 'Instance size', metric]].agg('max')[metric])\n",
    "    std_value = float(std.groupby(['Browser', 'Page', 'Platform']).get_group((browser, page, platform)).reset_index()[['Architecture', 'Instance size', metric]].agg('max')[metric])\n",
    "    ###Generate mean plots\n",
    "    for architecture in architectures:\n",
    "        subset = data_mean[data_mean[\"Architecture\"] == architecture]\n",
    "        plt.plot(subset[\"Instance size\"], subset[metric], marker='o', label=architecture)\n",
    "    plt.xlabel(\"Rozmiar instancji\")\n",
    "    plt.ylabel(metric + \" [ms]\")\n",
    "    plt.ylim(min_value - std_value, max_value + std_value)\n",
    "    plt.title(\"Konfiguracja: \" + browser + \", \" + page + \", \" + platform)\n",
    "    plt.legend(title=\"Architektura\")\n",
    "    plt.grid(True)\n",
    "    if (not os.path.isdir(\"./\" + OUTPUT_FOLDER_MEAN)):\n",
    "        os.makedirs(\"./\" + OUTPUT_FOLDER_MEAN)\n",
    "    plt.savefig(\"./\" + OUTPUT_FOLDER_MEAN + \"/\" + browser + \"-\" + page + \"-\" + platform + \"-\" + metric + \".png\", bbox_inches='tight')\n",
    "    plt.close()\n",
    "    ##Generate median plots\n",
    "    for architecture in architectures:\n",
    "        subset = data_median[data_median[\"Architecture\"] == architecture]\n",
    "        plt.plot(subset[\"Instance size\"], subset[metric], marker='o', label=architecture)\n",
    "    plt.xlabel(\"Rozmiar instancji\")\n",
    "    plt.ylabel(metric + \" [ms]\")\n",
    "    plt.ylim(min_value - std_value, max_value + std_value)\n",
    "    plt.title(\"Konfiguracja: \" + browser + \", \" + page + \", \" + platform)\n",
    "    plt.legend(title=\"Architektura\")\n",
    "    plt.grid(True)\n",
    "    if (not os.path.isdir(\"./\" + OUTPUT_FOLDER_MEDIAN)):\n",
    "        os.makedirs(\"./\" + OUTPUT_FOLDER_MEDIAN)\n",
    "    plt.savefig(\"./\" + OUTPUT_FOLDER_MEDIAN + \"/\" + browser + \"-\" + page + \"-\" + platform + \"-\" + metric + \".png\", bbox_inches='tight')\n",
    "    plt.close()"
   ]
  },
  {
   "cell_type": "code",
   "execution_count": 136,
   "metadata": {},
   "outputs": [],
   "source": [
    "for browser in BROWSERS:\n",
    "    for page in PAGES:\n",
    "        for platform in PLATFORMS:\n",
    "            for metric in METRICS:\n",
    "                draw_chart(browser, page, platform, metric)\n"
   ]
  }
 ],
 "metadata": {
  "kernelspec": {
   "display_name": "Python 3",
   "language": "python",
   "name": "python3"
  },
  "language_info": {
   "codemirror_mode": {
    "name": "ipython",
    "version": 3
   },
   "file_extension": ".py",
   "mimetype": "text/x-python",
   "name": "python",
   "nbconvert_exporter": "python",
   "pygments_lexer": "ipython3",
   "version": "3.12.3"
  }
 },
 "nbformat": 4,
 "nbformat_minor": 2
}
